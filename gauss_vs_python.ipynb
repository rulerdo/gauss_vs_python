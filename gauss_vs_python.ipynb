{
  "nbformat": 4,
  "nbformat_minor": 0,
  "metadata": {
    "colab": {
      "name": "gauss_vs_python.ipynb",
      "provenance": [],
      "collapsed_sections": []
    },
    "kernelspec": {
      "name": "python3",
      "display_name": "Python 3"
    },
    "language_info": {
      "name": "python"
    }
  },
  "cells": [
    {
      "cell_type": "markdown",
      "metadata": {
        "id": "MjCQtFHCt2SA"
      },
      "source": [
        "## Descripcion\n",
        "\n",
        "Demostracion de que la sumatoria de Gauss es cierta\n",
        "\n",
        "## Formula\n",
        "\n",
        "$\\sum_{0}^x = (\\frac{1}{2})(x) (x+1)$"
      ]
    },
    {
      "cell_type": "code",
      "metadata": {
        "id": "Iwi9HV9x7-oq"
      },
      "source": [
        "range(5)"
      ],
      "execution_count": null,
      "outputs": []
    },
    {
      "cell_type": "code",
      "metadata": {
        "id": "wUzIMe_o8AQi"
      },
      "source": [
        "for i in range(5):\n",
        "  print(i)"
      ],
      "execution_count": null,
      "outputs": []
    },
    {
      "cell_type": "code",
      "metadata": {
        "id": "wWDtGx0_8Db4"
      },
      "source": [
        "x = 5"
      ],
      "execution_count": null,
      "outputs": []
    },
    {
      "cell_type": "code",
      "metadata": {
        "id": "9PGQxryG9VLC"
      },
      "source": [
        "for i in range(x+1):\n",
        "  print(i)"
      ],
      "execution_count": null,
      "outputs": []
    },
    {
      "cell_type": "code",
      "metadata": {
        "id": "wmzUtLWS8Kd0"
      },
      "source": [
        "r = (0,1,2,3,4,5)"
      ],
      "execution_count": null,
      "outputs": []
    },
    {
      "cell_type": "code",
      "metadata": {
        "id": "-yCcLLsr9ZZX"
      },
      "source": [
        "sum(r)"
      ],
      "execution_count": null,
      "outputs": []
    },
    {
      "cell_type": "code",
      "metadata": {
        "id": "IO2BnQRj8bbG"
      },
      "source": [
        "sum(range(x+1))"
      ],
      "execution_count": null,
      "outputs": []
    },
    {
      "cell_type": "code",
      "metadata": {
        "id": "bIm3iYprXAsU"
      },
      "source": [
        "def sum_trad(x):\n",
        "    return sum(range(x + 1))"
      ],
      "execution_count": null,
      "outputs": []
    },
    {
      "cell_type": "code",
      "metadata": {
        "id": "iNOnWhMGXOCA"
      },
      "source": [
        "def sum_gauss(x):\n",
        "    return (x / 2) * (x + 1)"
      ],
      "execution_count": null,
      "outputs": []
    },
    {
      "cell_type": "code",
      "metadata": {
        "id": "ySsc034ZXQj3"
      },
      "source": [
        "def compara_trad_gauss(x):\n",
        "    print(f'x={x} : {sum_trad(x)} vs {sum_gauss(x)}')\n",
        "    return sum_trad(x) == sum_gauss(x)"
      ],
      "execution_count": null,
      "outputs": []
    },
    {
      "cell_type": "code",
      "metadata": {
        "id": "WmqXc6FdXUuU"
      },
      "source": [
        "def gauss_vs_python(r):\n",
        "    \n",
        "    hipotesis = True\n",
        "    print(f'Probando la formula de Gauss con el rango de numeros 0-{r}')   \n",
        "\n",
        "    with alive_bar(r + 1) as bar:\n",
        "\n",
        "        for x in range(r + 1):\n",
        "            \n",
        "            if not compara_trad_gauss(x):\n",
        "                hipotesis = False\n",
        "                print(f'Error para x = {x}')\n",
        "                break\n",
        "            \n",
        "            bar()\n",
        "\n",
        "    if hipotesis:\n",
        "        print('Prueba exitosa, mis respetos forever Gauss!')\n",
        "    else:\n",
        "        print('Gauss... eres un fraude!')"
      ],
      "execution_count": null,
      "outputs": []
    },
    {
      "cell_type": "code",
      "metadata": {
        "id": "u0xOsA83Y3Cb"
      },
      "source": [
        "gauss_vs_python(5)"
      ],
      "execution_count": null,
      "outputs": []
    }
  ]
}